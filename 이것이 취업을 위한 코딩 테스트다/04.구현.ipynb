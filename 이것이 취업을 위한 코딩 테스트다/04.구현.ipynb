{
 "cells": [
  {
   "cell_type": "markdown",
   "id": "ad65d0e9-fbaf-45ae-beda-7e3df0744f37",
   "metadata": {},
   "source": [
    "# 상하좌우"
   ]
  },
  {
   "cell_type": "markdown",
   "id": "558cf7c4-de5e-4934-b2a5-2781bff7e237",
   "metadata": {},
   "source": [
    "## 문제\n",
    "\n",
    "- (1,1) 좌표에서 시작\n",
    "- 첫 줄에는 공간의 크기를 나타내는 N값이 주어진다.\n",
    "- 총 ( N * N ) 지도\n",
    "- 둘째 줄에는 L, R, U, D 값이 주어진다.\n",
    "- 지도를 벗어나지 않으면서 도착하는 지점을 출력하는 문제  \n",
    "---\n",
    "EX.  \n",
    "입력 : 5  \n",
    "입력 : R R R U D D  \n",
    "출력 : 3 4"
   ]
  },
  {
   "cell_type": "code",
   "execution_count": 13,
   "id": "a31e3d8d-169b-4f4d-9293-62ae5b96233a",
   "metadata": {},
   "outputs": [
    {
     "name": "stdin",
     "output_type": "stream",
     "text": [
      " 5\n",
      " R R R U D D\n"
     ]
    }
   ],
   "source": [
    "n = int(input())\n",
    "x, y = 1, 1\n",
    "plans = input().split()"
   ]
  },
  {
   "cell_type": "code",
   "execution_count": 14,
   "id": "6fb01c98-2194-4eea-afdd-3dee06066955",
   "metadata": {},
   "outputs": [],
   "source": [
    "move_types = ['L', 'R', 'U', 'D']\n",
    "\n",
    "dx = [0, 0, -1, 1]\n",
    "dy = [-1, 1, 0, 0]"
   ]
  },
  {
   "cell_type": "code",
   "execution_count": 15,
   "id": "3a49e778-b4e7-4470-ba35-5d7b8965b447",
   "metadata": {},
   "outputs": [],
   "source": [
    "for plan in plans:\n",
    "    for i in range(len(move_types)):\n",
    "        if plan == move_types[i]:\n",
    "            nx = x + dx[i]\n",
    "            ny = y + dy[i]\n",
    "    if nx < 1 or ny < 1 or nx > n or ny > n:\n",
    "        continue\n",
    "    x, y = nx, ny"
   ]
  },
  {
   "cell_type": "code",
   "execution_count": 16,
   "id": "3d98a98f-fe68-4c26-92ba-07ffbed9a363",
   "metadata": {},
   "outputs": [
    {
     "name": "stdout",
     "output_type": "stream",
     "text": [
      "3 4\n"
     ]
    }
   ],
   "source": [
    "print(x, y)"
   ]
  }
 ],
 "metadata": {
  "kernelspec": {
   "display_name": "Python 3 (ipykernel)",
   "language": "python",
   "name": "python3"
  },
  "language_info": {
   "codemirror_mode": {
    "name": "ipython",
    "version": 3
   },
   "file_extension": ".py",
   "mimetype": "text/x-python",
   "name": "python",
   "nbconvert_exporter": "python",
   "pygments_lexer": "ipython3",
   "version": "3.12.2"
  }
 },
 "nbformat": 4,
 "nbformat_minor": 5
}
