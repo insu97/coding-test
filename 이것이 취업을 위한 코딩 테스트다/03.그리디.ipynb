{
 "cells": [
  {
   "cell_type": "markdown",
   "id": "2bb4ea01-a80c-4072-a351-cfcec723f7ed",
   "metadata": {
    "panel-layout": {
     "height": 51.140625,
     "visible": true,
     "width": 100
    }
   },
   "source": [
    "# 거스름돈\n",
    "> 당신은 음식점의 계산을 도와주는 점원이다.  \n",
    "> 카운터에는 거스름돈으로 사용할 500원, 100원, 50원, 10원짜리 동전이 무한히 존재한다고 가정한다.  \n",
    "> 손님에게 거슬러 줘야 할 돈이 N원일 때 거슬러줘야 할 **동전의 최소 개수를 구하라.**  \n",
    "> 단, 거슬러 줘야 할 돈 N은 항상 10의 배수이다.  "
   ]
  },
  {
   "cell_type": "code",
   "execution_count": 3,
   "id": "23270183-80f6-4c2c-89e4-4b98051e11c4",
   "metadata": {},
   "outputs": [
    {
     "name": "stdout",
     "output_type": "stream",
     "text": [
      "6\n"
     ]
    }
   ],
   "source": [
    "n = 1260\n",
    "count = 0\n",
    "\n",
    "coin_types = [500, 100, 50, 10]\n",
    "\n",
    "for coin in coin_types:\n",
    "    count += n // coin\n",
    "    n %= coin\n",
    "\n",
    "print(count)"
   ]
  },
  {
   "cell_type": "markdown",
   "id": "47d9b5ce-60d2-49d8-ac20-ee5f63515e9a",
   "metadata": {},
   "source": [
    "# 큰 수의 법칙"
   ]
  },
  {
   "attachments": {},
   "cell_type": "markdown",
   "id": "ecf28cd8-9c81-4e0f-8d62-98b57753ccf5",
   "metadata": {},
   "source": [
    "## 개요\n",
    "\n",
    "> 여기서 큰 수의 법칙 : 다양한 수로 이루어진 배열이 있을 때 주어진 수들을 M번 더하여 가장 큰 수를 만드는 법칙  \n",
    "> 단, 배열의 특정한 인덱스(번호)에 해당하는 수가 연속해서 K번을 초과하여 더해질 수 없는 것이 특징  \n",
    "> ex. 2 4 5 4 6 -> M : 8, K : 3 -> 6 + 6 + 6 + 5 + 6 + 6 + 6 + 5 = 46  \n",
    "> 단, 서로 다른 인덱스에 해당하는 수가 같은 경우에도 서로 다른 것으로 간주  \n",
    "> ex. 3 4 3 4 3 -> M : 7, K : 2 -> 4 + 4 + 4 + 4 + 4 + 4 + 4 = 28 "
   ]
  },
  {
   "cell_type": "markdown",
   "id": "b52d730e-5b02-457c-864b-5eaf3d3f06b7",
   "metadata": {},
   "source": [
    "## 조건\n",
    "- 첫째 줄에 N(2 <= N <= 1000), M(1 <= M <= 10000), K(1 <= K <= 10000)의 자연수가 주어지며, 각 자연수는 공백으로 구분한다.\n",
    "- 둘째 줄에 N개의 자연수가 주어진다. 각 자연수는 공백으로 구분한다. 단, 각각의 자연수는 1 이상 10000 이하의 수로 주어진다.\n",
    "- 입력으로 주어지는 K는 항상 M보다 작거나 같다."
   ]
  },
  {
   "cell_type": "markdown",
   "id": "1cc096ad-0b69-4708-92c7-3dbc42c90ff9",
   "metadata": {},
   "source": [
    "## 문제  \n",
    "\n",
    "- 입력  \n",
    "\n",
    "    > 5 8 3  \n",
    "    > 2 4 5 4 6\n",
    "\n",
    "- 출력 : 46"
   ]
  },
  {
   "cell_type": "markdown",
   "id": "3c98a956-54fc-4aa9-8759-39a70df30b2a",
   "metadata": {},
   "source": [
    "### 풀이 1"
   ]
  },
  {
   "cell_type": "code",
   "execution_count": 9,
   "id": "76de68e8-99c0-4a88-8a56-4a02c8181f8b",
   "metadata": {},
   "outputs": [
    {
     "name": "stdin",
     "output_type": "stream",
     "text": [
      " 5 8 3\n",
      " 2 4 5 4 6\n"
     ]
    }
   ],
   "source": [
    "n, m, k = map(int, input().split())\n",
    "data = list(map(int, input().split()))"
   ]
  },
  {
   "cell_type": "code",
   "execution_count": 10,
   "id": "806fcfe2-f71e-47c1-80d7-e91c27728ea5",
   "metadata": {},
   "outputs": [],
   "source": [
    "data.sort()"
   ]
  },
  {
   "cell_type": "code",
   "execution_count": 11,
   "id": "7442ae26-43af-4289-a68d-606c7b7af3c1",
   "metadata": {},
   "outputs": [],
   "source": [
    "first = data[n-1]\n",
    "second = data[n-2]\n",
    "\n",
    "result = 0"
   ]
  },
  {
   "cell_type": "code",
   "execution_count": 12,
   "id": "958ee23b-a3bb-4ec4-80ae-3bf77b721c42",
   "metadata": {},
   "outputs": [
    {
     "name": "stdout",
     "output_type": "stream",
     "text": [
      "46\n"
     ]
    }
   ],
   "source": [
    "while True:\n",
    "    for i in range(k):\n",
    "        if m == 0:\n",
    "            break\n",
    "        result += first\n",
    "        m -= 1\n",
    "    if m == 0:\n",
    "        break\n",
    "    result += second\n",
    "    m -= 1\n",
    "\n",
    "print(result)"
   ]
  },
  {
   "cell_type": "markdown",
   "id": "cc40a24b-4a03-486e-b15d-4ecc3d4feb6d",
   "metadata": {},
   "source": [
    "### 풀이 2"
   ]
  },
  {
   "cell_type": "code",
   "execution_count": 14,
   "id": "ae43df91-5098-49a0-8fcb-efabb9410eea",
   "metadata": {},
   "outputs": [
    {
     "name": "stdin",
     "output_type": "stream",
     "text": [
      " 5 8 3\n",
      " 2 4 5 4 6\n"
     ]
    }
   ],
   "source": [
    "n, m, k = map(int, input().split())\n",
    "data = list(map(int, input().split()))"
   ]
  },
  {
   "cell_type": "code",
   "execution_count": 15,
   "id": "d1923411-ed44-4d2a-9d16-5628491b7187",
   "metadata": {},
   "outputs": [],
   "source": [
    "data.sort()"
   ]
  },
  {
   "cell_type": "code",
   "execution_count": 16,
   "id": "633ab485-18a1-48a4-b1e7-68e7b728d3e3",
   "metadata": {},
   "outputs": [],
   "source": [
    "first = data[n-1]\n",
    "second = data[n-2]\n",
    "\n",
    "result = 0"
   ]
  },
  {
   "cell_type": "code",
   "execution_count": 17,
   "id": "ebbf9f39-b1d0-4174-9913-ad1e1d14a2c6",
   "metadata": {},
   "outputs": [],
   "source": [
    "count = int(m / (k+1)) * k\n",
    "count += m % (k+1)"
   ]
  },
  {
   "cell_type": "code",
   "execution_count": 18,
   "id": "b227ca7d-f51d-4f84-af91-ffbde771abce",
   "metadata": {},
   "outputs": [],
   "source": [
    "result = 0\n",
    "result += count * first\n",
    "result += (m-count) * second"
   ]
  },
  {
   "cell_type": "code",
   "execution_count": 19,
   "id": "4073b6af-f05c-4ecf-a4e6-4798e0285aae",
   "metadata": {},
   "outputs": [
    {
     "name": "stdout",
     "output_type": "stream",
     "text": [
      "46\n"
     ]
    }
   ],
   "source": [
    "print(result)"
   ]
  },
  {
   "cell_type": "markdown",
   "id": "7abac67d-c358-4081-be76-b689a6f189fa",
   "metadata": {},
   "source": [
    "# 숫자 카드 게임"
   ]
  },
  {
   "cell_type": "markdown",
   "id": "5ff5a5dd-9cf5-47b4-9b49-bf469c56bcaa",
   "metadata": {},
   "source": [
    "## 개요\n",
    "> 여러 개의 숫자 카드 중에서 가장 높은 숫자가 쓰인 카드 한 장을 뽑는 게임  \n",
    "1. 숫자가 쓰인 카드들이 N * M 형태로 놓여 있다. 이때 N : 행의 개수, M : 열의 개수\n",
    "2. 먼저 뽑고자 하는 카드가 포함되어 있는 행을 선택한다.  \n",
    "3. 그다음 선택된 행에 포함된 카드들 중 가장 숫자가 낮은 카드를 뽑아야 한다.\n",
    "4. 따라서 처음에 카드를 골라낼 행을 선택할 때, 이후에 해당 행에서 가장 숫자가 낮은 카드를 뽑을 것을 고려하여 최종적으로 가장 높은 숫자의 카드를 뽑을 수 있도록 전략을 세워야 한다."
   ]
  },
  {
   "cell_type": "markdown",
   "id": "b80340e0-c5cb-43a3-a102-c98c9d5c84d5",
   "metadata": {},
   "source": [
    "## 조건\n",
    "- 1 <= N, M <= 100  \n",
    "- 둘째 줄부터 N개의 줄에 걸쳐 각 카드에 적힌 숫자는 1 이상 10000 이하의 자연수다."
   ]
  },
  {
   "cell_type": "markdown",
   "id": "26fc0849-018d-4f85-a7b4-1a3794a322f1",
   "metadata": {},
   "source": [
    "## 문제\n",
    "\n",
    "- 입력  \n",
    "3 3  \n",
    "3 1 2  \n",
    "4 1 4  \n",
    "2 2 2\n",
    "- 출력  \n",
    "2  \n",
    "\n",
    "---\n",
    "- 입력  \n",
    "2 4  \n",
    "7 3 1 8  \n",
    "3 3 3 4  \n",
    "- 출력  \n",
    "3"
   ]
  },
  {
   "cell_type": "code",
   "execution_count": 57,
   "id": "6f359364-8c72-4414-87c9-eb954acb81ec",
   "metadata": {},
   "outputs": [
    {
     "name": "stdin",
     "output_type": "stream",
     "text": [
      " 3 3\n"
     ]
    }
   ],
   "source": [
    "n, m = map(int, input().split())"
   ]
  },
  {
   "cell_type": "code",
   "execution_count": 59,
   "id": "7052822a-9e60-40ca-9636-01744c955395",
   "metadata": {},
   "outputs": [
    {
     "name": "stdin",
     "output_type": "stream",
     "text": [
      " 3 1 2\n",
      " 4 1 4\n",
      " 2 2 2\n"
     ]
    }
   ],
   "source": [
    "result = 0\n",
    "for i in range(n):\n",
    "    data = list(map(int, input().split()))\n",
    "    min_value = min(data)\n",
    "    result = max(result, min_value)"
   ]
  },
  {
   "cell_type": "code",
   "execution_count": 61,
   "id": "f5698b10-f6d2-4c6e-9b30-7c1196daa67d",
   "metadata": {},
   "outputs": [
    {
     "name": "stdout",
     "output_type": "stream",
     "text": [
      "2\n"
     ]
    }
   ],
   "source": [
    "print(result)"
   ]
  }
 ],
 "metadata": {
  "kernelspec": {
   "display_name": "Python 3 (ipykernel)",
   "language": "python",
   "name": "python3"
  },
  "language_info": {
   "codemirror_mode": {
    "name": "ipython",
    "version": 3
   },
   "file_extension": ".py",
   "mimetype": "text/x-python",
   "name": "python",
   "nbconvert_exporter": "python",
   "pygments_lexer": "ipython3",
   "version": "3.11.7"
  },
  "panel-cell-order": [
   "2bb4ea01-a80c-4072-a351-cfcec723f7ed"
  ]
 },
 "nbformat": 4,
 "nbformat_minor": 5
}
