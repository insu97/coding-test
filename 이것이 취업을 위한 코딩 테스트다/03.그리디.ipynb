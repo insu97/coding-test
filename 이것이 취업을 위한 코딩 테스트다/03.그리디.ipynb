{
 "cells": [
  {
   "cell_type": "markdown",
   "id": "2bb4ea01-a80c-4072-a351-cfcec723f7ed",
   "metadata": {
    "panel-layout": {
     "height": 51.140625,
     "visible": true,
     "width": 100
    }
   },
   "source": [
    "# 문제 - 거스름돈\n",
    "> 당신은 음식점의 계산을 도와주는 점원이다.  \n",
    "> 카운터에는 거스름돈으로 사용할 500원, 100원, 50원, 10원짜리 동전이 무한히 존재한다고 가정한다.  \n",
    "> 손님에게 거슬러 줘야 할 돈이 N원일 때 거슬러줘야 할 동전의 최소 개수를 구하라.  \n",
    "> 단, 거슬러 줘야 할 돈 N은 항상 10의 배수이다.  "
   ]
  },
  {
   "cell_type": "code",
   "execution_count": 4,
   "id": "23270183-80f6-4c2c-89e4-4b98051e11c4",
   "metadata": {},
   "outputs": [
    {
     "name": "stdout",
     "output_type": "stream",
     "text": [
      "6\n"
     ]
    }
   ],
   "source": [
    "n = 1260\n",
    "count = 0\n",
    "\n",
    "coin_types = [500, 100, 50, 10]\n",
    "\n",
    "for coin in coin_types:\n",
    "    count += n // coin\n",
    "    n %= coin\n",
    "\n",
    "print(count)"
   ]
  }
 ],
 "metadata": {
  "kernelspec": {
   "display_name": "Python 3 (ipykernel)",
   "language": "python",
   "name": "python3"
  },
  "language_info": {
   "codemirror_mode": {
    "name": "ipython",
    "version": 3
   },
   "file_extension": ".py",
   "mimetype": "text/x-python",
   "name": "python",
   "nbconvert_exporter": "python",
   "pygments_lexer": "ipython3",
   "version": "3.11.7"
  },
  "panel-cell-order": [
   "2bb4ea01-a80c-4072-a351-cfcec723f7ed"
  ]
 },
 "nbformat": 4,
 "nbformat_minor": 5
}
